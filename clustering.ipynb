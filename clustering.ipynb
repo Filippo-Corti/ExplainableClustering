{
 "cells": [
  {
   "metadata": {},
   "cell_type": "markdown",
   "source": "# Clustering the Dataset",
   "id": "e70827e717ae56ae"
  },
  {
   "metadata": {
    "ExecuteTime": {
     "end_time": "2025-10-14T09:58:41.035130Z",
     "start_time": "2025-10-14T09:58:34.159556Z"
    }
   },
   "cell_type": "code",
   "source": [
    "import warnings\n",
    "from ucimlrepo import fetch_ucirepo\n",
    "import pandas as pd\n",
    "import numpy as np\n",
    "from sklearn.preprocessing import StandardScaler, OneHotEncoder, RobustScaler\n",
    "from sklearn.compose import ColumnTransformer\n",
    "from sklearn.pipeline import Pipeline\n",
    "from sklearn.cluster import DBSCAN, SpectralClustering\n",
    "from sklearn.metrics import silhouette_score, calinski_harabasz_score, davies_bouldin_score\n",
    "from gower import gower_matrix\n",
    "from kmodes.kprototypes import KPrototypes\n",
    "import matplotlib.pyplot as plt\n",
    "import umap\n",
    "import hdbscan\n",
    "from sklearn.mixture import GaussianMixture\n",
    "from sklearn.metrics import silhouette_score\n",
    "from kmodes.kprototypes import KPrototypes\n",
    "\n",
    "from clustering.kprototype import kprototype\n",
    "from clustering.gmm import gmm_cluster\n",
    "from clustering.hdbscan import hdbscan_cluster\n",
    "from clustering.spectral import spectral_cluster\n",
    "\n",
    "warnings.filterwarnings('ignore')"
   ],
   "id": "a723006a91708cc3",
   "outputs": [
    {
     "name": "stderr",
     "output_type": "stream",
     "text": [
      "/home/filippo/code/sciviz/assignment-01/.venv/lib/python3.12/site-packages/tqdm/auto.py:21: TqdmWarning: IProgress not found. Please update jupyter and ipywidgets. See https://ipywidgets.readthedocs.io/en/stable/user_install.html\n",
      "  from .autonotebook import tqdm as notebook_tqdm\n"
     ]
    }
   ],
   "execution_count": 1
  },
  {
   "metadata": {},
   "cell_type": "markdown",
   "source": "## 1. Load the Dataset",
   "id": "82be8f1e13fe825f"
  },
  {
   "metadata": {
    "ExecuteTime": {
     "end_time": "2025-10-14T09:58:43.798282Z",
     "start_time": "2025-10-14T09:58:41.046179Z"
    }
   },
   "cell_type": "code",
   "source": [
    "ilpd_indian_liver_patient = fetch_ucirepo(id=225)\n",
    "\n",
    "X = ilpd_indian_liver_patient.data.features\n",
    "y = ilpd_indian_liver_patient.data.targets\n",
    "\n",
    "clusters_df = pd.DataFrame()\n",
    "\n",
    "X = X.dropna()"
   ],
   "id": "238bfc9a339f58c9",
   "outputs": [],
   "execution_count": 2
  },
  {
   "metadata": {
    "ExecuteTime": {
     "end_time": "2025-10-14T09:58:43.971640Z",
     "start_time": "2025-10-14T09:58:43.935888Z"
    }
   },
   "cell_type": "code",
   "source": "X",
   "id": "47661deb3487aa5",
   "outputs": [
    {
     "data": {
      "text/plain": [
       "     Age  Gender    TB   DB  Alkphos  Sgpt  Sgot   TP  ALB  A/G Ratio\n",
       "0     65  Female   0.7  0.1      187    16    18  6.8  3.3       0.90\n",
       "1     62    Male  10.9  5.5      699    64   100  7.5  3.2       0.74\n",
       "2     62    Male   7.3  4.1      490    60    68  7.0  3.3       0.89\n",
       "3     58    Male   1.0  0.4      182    14    20  6.8  3.4       1.00\n",
       "4     72    Male   3.9  2.0      195    27    59  7.3  2.4       0.40\n",
       "..   ...     ...   ...  ...      ...   ...   ...  ...  ...        ...\n",
       "578   60    Male   0.5  0.1      500    20    34  5.9  1.6       0.37\n",
       "579   40    Male   0.6  0.1       98    35    31  6.0  3.2       1.10\n",
       "580   52    Male   0.8  0.2      245    48    49  6.4  3.2       1.00\n",
       "581   31    Male   1.3  0.5      184    29    32  6.8  3.4       1.00\n",
       "582   38    Male   1.0  0.3      216    21    24  7.3  4.4       1.50\n",
       "\n",
       "[579 rows x 10 columns]"
      ],
      "text/html": [
       "<div>\n",
       "<style scoped>\n",
       "    .dataframe tbody tr th:only-of-type {\n",
       "        vertical-align: middle;\n",
       "    }\n",
       "\n",
       "    .dataframe tbody tr th {\n",
       "        vertical-align: top;\n",
       "    }\n",
       "\n",
       "    .dataframe thead th {\n",
       "        text-align: right;\n",
       "    }\n",
       "</style>\n",
       "<table border=\"1\" class=\"dataframe\">\n",
       "  <thead>\n",
       "    <tr style=\"text-align: right;\">\n",
       "      <th></th>\n",
       "      <th>Age</th>\n",
       "      <th>Gender</th>\n",
       "      <th>TB</th>\n",
       "      <th>DB</th>\n",
       "      <th>Alkphos</th>\n",
       "      <th>Sgpt</th>\n",
       "      <th>Sgot</th>\n",
       "      <th>TP</th>\n",
       "      <th>ALB</th>\n",
       "      <th>A/G Ratio</th>\n",
       "    </tr>\n",
       "  </thead>\n",
       "  <tbody>\n",
       "    <tr>\n",
       "      <th>0</th>\n",
       "      <td>65</td>\n",
       "      <td>Female</td>\n",
       "      <td>0.7</td>\n",
       "      <td>0.1</td>\n",
       "      <td>187</td>\n",
       "      <td>16</td>\n",
       "      <td>18</td>\n",
       "      <td>6.8</td>\n",
       "      <td>3.3</td>\n",
       "      <td>0.90</td>\n",
       "    </tr>\n",
       "    <tr>\n",
       "      <th>1</th>\n",
       "      <td>62</td>\n",
       "      <td>Male</td>\n",
       "      <td>10.9</td>\n",
       "      <td>5.5</td>\n",
       "      <td>699</td>\n",
       "      <td>64</td>\n",
       "      <td>100</td>\n",
       "      <td>7.5</td>\n",
       "      <td>3.2</td>\n",
       "      <td>0.74</td>\n",
       "    </tr>\n",
       "    <tr>\n",
       "      <th>2</th>\n",
       "      <td>62</td>\n",
       "      <td>Male</td>\n",
       "      <td>7.3</td>\n",
       "      <td>4.1</td>\n",
       "      <td>490</td>\n",
       "      <td>60</td>\n",
       "      <td>68</td>\n",
       "      <td>7.0</td>\n",
       "      <td>3.3</td>\n",
       "      <td>0.89</td>\n",
       "    </tr>\n",
       "    <tr>\n",
       "      <th>3</th>\n",
       "      <td>58</td>\n",
       "      <td>Male</td>\n",
       "      <td>1.0</td>\n",
       "      <td>0.4</td>\n",
       "      <td>182</td>\n",
       "      <td>14</td>\n",
       "      <td>20</td>\n",
       "      <td>6.8</td>\n",
       "      <td>3.4</td>\n",
       "      <td>1.00</td>\n",
       "    </tr>\n",
       "    <tr>\n",
       "      <th>4</th>\n",
       "      <td>72</td>\n",
       "      <td>Male</td>\n",
       "      <td>3.9</td>\n",
       "      <td>2.0</td>\n",
       "      <td>195</td>\n",
       "      <td>27</td>\n",
       "      <td>59</td>\n",
       "      <td>7.3</td>\n",
       "      <td>2.4</td>\n",
       "      <td>0.40</td>\n",
       "    </tr>\n",
       "    <tr>\n",
       "      <th>...</th>\n",
       "      <td>...</td>\n",
       "      <td>...</td>\n",
       "      <td>...</td>\n",
       "      <td>...</td>\n",
       "      <td>...</td>\n",
       "      <td>...</td>\n",
       "      <td>...</td>\n",
       "      <td>...</td>\n",
       "      <td>...</td>\n",
       "      <td>...</td>\n",
       "    </tr>\n",
       "    <tr>\n",
       "      <th>578</th>\n",
       "      <td>60</td>\n",
       "      <td>Male</td>\n",
       "      <td>0.5</td>\n",
       "      <td>0.1</td>\n",
       "      <td>500</td>\n",
       "      <td>20</td>\n",
       "      <td>34</td>\n",
       "      <td>5.9</td>\n",
       "      <td>1.6</td>\n",
       "      <td>0.37</td>\n",
       "    </tr>\n",
       "    <tr>\n",
       "      <th>579</th>\n",
       "      <td>40</td>\n",
       "      <td>Male</td>\n",
       "      <td>0.6</td>\n",
       "      <td>0.1</td>\n",
       "      <td>98</td>\n",
       "      <td>35</td>\n",
       "      <td>31</td>\n",
       "      <td>6.0</td>\n",
       "      <td>3.2</td>\n",
       "      <td>1.10</td>\n",
       "    </tr>\n",
       "    <tr>\n",
       "      <th>580</th>\n",
       "      <td>52</td>\n",
       "      <td>Male</td>\n",
       "      <td>0.8</td>\n",
       "      <td>0.2</td>\n",
       "      <td>245</td>\n",
       "      <td>48</td>\n",
       "      <td>49</td>\n",
       "      <td>6.4</td>\n",
       "      <td>3.2</td>\n",
       "      <td>1.00</td>\n",
       "    </tr>\n",
       "    <tr>\n",
       "      <th>581</th>\n",
       "      <td>31</td>\n",
       "      <td>Male</td>\n",
       "      <td>1.3</td>\n",
       "      <td>0.5</td>\n",
       "      <td>184</td>\n",
       "      <td>29</td>\n",
       "      <td>32</td>\n",
       "      <td>6.8</td>\n",
       "      <td>3.4</td>\n",
       "      <td>1.00</td>\n",
       "    </tr>\n",
       "    <tr>\n",
       "      <th>582</th>\n",
       "      <td>38</td>\n",
       "      <td>Male</td>\n",
       "      <td>1.0</td>\n",
       "      <td>0.3</td>\n",
       "      <td>216</td>\n",
       "      <td>21</td>\n",
       "      <td>24</td>\n",
       "      <td>7.3</td>\n",
       "      <td>4.4</td>\n",
       "      <td>1.50</td>\n",
       "    </tr>\n",
       "  </tbody>\n",
       "</table>\n",
       "<p>579 rows × 10 columns</p>\n",
       "</div>"
      ]
     },
     "execution_count": 3,
     "metadata": {},
     "output_type": "execute_result"
    }
   ],
   "execution_count": 3
  },
  {
   "metadata": {},
   "cell_type": "markdown",
   "source": "## 2. Preprocessing",
   "id": "9a259a6a355a4d12"
  },
  {
   "metadata": {
    "ExecuteTime": {
     "end_time": "2025-10-14T09:58:44.120223Z",
     "start_time": "2025-10-14T09:58:44.109705Z"
    }
   },
   "cell_type": "code",
   "source": "X.isna().sum() # Check for missing values (there's none)",
   "id": "27f0edc5bd3cae32",
   "outputs": [
    {
     "data": {
      "text/plain": [
       "Age          0\n",
       "Gender       0\n",
       "TB           0\n",
       "DB           0\n",
       "Alkphos      0\n",
       "Sgpt         0\n",
       "Sgot         0\n",
       "TP           0\n",
       "ALB          0\n",
       "A/G Ratio    0\n",
       "dtype: int64"
      ]
     },
     "execution_count": 4,
     "metadata": {},
     "output_type": "execute_result"
    }
   ],
   "execution_count": 4
  },
  {
   "metadata": {
    "ExecuteTime": {
     "end_time": "2025-10-14T09:58:44.551376Z",
     "start_time": "2025-10-14T09:58:44.544282Z"
    }
   },
   "cell_type": "code",
   "source": [
    "# Build preprocessing pipeline\n",
    "\n",
    "numeric_features = ['Age', 'TB', 'DB', 'Alkphos', 'Sgpt', 'Sgot', 'TP', 'ALB', 'A/G Ratio']\n",
    "categorical_features = ['Gender']\n",
    "all_columns = numeric_features + categorical_features\n",
    "\n",
    "preprocessor = ColumnTransformer(\n",
    "    transformers=[\n",
    "        ('num', RobustScaler(), numeric_features), # RobustScaler?\n",
    "        #('cat', OneHotEncoder(drop='first'), categorical_features)\n",
    "    ],\n",
    "    remainder='passthrough',\n",
    ")\n",
    "\n",
    "pipeline = Pipeline(steps=[('preprocessor', preprocessor)])"
   ],
   "id": "51c1f12b00ac3b55",
   "outputs": [],
   "execution_count": 5
  },
  {
   "metadata": {
    "ExecuteTime": {
     "end_time": "2025-10-14T09:58:44.752864Z",
     "start_time": "2025-10-14T09:58:44.719065Z"
    }
   },
   "cell_type": "code",
   "source": [
    "X_scaled = pipeline.fit_transform(X)\n",
    "X_scaled = pd.DataFrame(X_scaled, columns=all_columns, index=X.index)\n",
    "\n",
    "# Convert numeric to float explicitly\n",
    "X_scaled[numeric_features] = X_scaled[numeric_features].astype(float)\n",
    "\n",
    "# Convert categorical to string explicitly\n",
    "X_scaled[categorical_features] = X_scaled[categorical_features].astype(str)\n",
    "\n",
    "#X_scaled"
   ],
   "id": "20a0e982582ea381",
   "outputs": [],
   "execution_count": 6
  },
  {
   "metadata": {
    "ExecuteTime": {
     "end_time": "2025-10-14T09:58:44.868918Z",
     "start_time": "2025-10-14T09:58:44.862483Z"
    }
   },
   "cell_type": "code",
   "source": [
    "X_numeric = X[numeric_features] # Remove Gender (temporarily)\n",
    "X_scaled_numeric = X_scaled[numeric_features]\n",
    "\n",
    "#X_scaled_numeric"
   ],
   "id": "f51313fecf97739",
   "outputs": [],
   "execution_count": 7
  },
  {
   "metadata": {},
   "cell_type": "markdown",
   "source": "## 3. Clustering using K-Prototype",
   "id": "83238f3f91d68e95"
  },
  {
   "metadata": {
    "jupyter": {
     "is_executing": true
    },
    "ExecuteTime": {
     "start_time": "2025-10-14T10:00:59.459458Z"
    }
   },
   "cell_type": "code",
   "source": [
    "ks = range(2, 10)\n",
    "costs = []\n",
    "clusters = dict()\n",
    "\n",
    "for k in ks:\n",
    "    labels, model, sil = kprototype(X_scaled, k)\n",
    "    costs.append(model.cost_)\n",
    "    clusters[k] = labels\n",
    "\n",
    "plt.figure(figsize=(8,5))\n",
    "plt.plot(ks, costs, marker='o', linestyle='-', color='purple')\n",
    "plt.xlabel('Number of clusters (k)')\n",
    "plt.ylabel('K-Prototypes Cost')\n",
    "plt.title('Elbow Method for K-Prototypes')\n",
    "plt.xticks(ks)\n",
    "plt.grid(True, linestyle='--', alpha=0.5)\n",
    "plt.show()"
   ],
   "id": "af4e9a3bca1fb665",
   "outputs": [],
   "execution_count": null
  },
  {
   "metadata": {
    "ExecuteTime": {
     "end_time": "2025-10-14T09:51:05.234073Z",
     "start_time": "2025-10-14T09:51:05.224716Z"
    }
   },
   "cell_type": "code",
   "source": [
    "best_ks = [2, 4, 5]\n",
    "\n",
    "for k in best_ks:\n",
    "    clusters_df[f'Clusters_KProto_k{k}'] = clusters[k]"
   ],
   "id": "368d1669d0c25983",
   "outputs": [],
   "execution_count": 9
  },
  {
   "metadata": {},
   "cell_type": "markdown",
   "source": "## 4. Clustering using GMM",
   "id": "6e04565210429ee2"
  },
  {
   "metadata": {
    "ExecuteTime": {
     "end_time": "2025-10-14T09:51:11.641679Z",
     "start_time": "2025-10-14T09:51:09.589Z"
    }
   },
   "cell_type": "code",
   "source": [
    "ks = range(2, 10)\n",
    "clusters = dict()\n",
    "silhouette_scores = []\n",
    "\n",
    "for k in ks:\n",
    "    labels, model, sil = gmm_cluster(X_scaled_numeric, k)\n",
    "    clusters[k] = labels\n",
    "    silhouette_scores.append(sil)\n",
    "\n",
    "ks = [k for k in ks]\n",
    "\n",
    "# Plot\n",
    "plt.figure(figsize=(8,5))\n",
    "plt.plot(ks, silhouette_scores, marker='o', linestyle='-', color='teal')\n",
    "plt.xlabel('Number of clusters (k)')\n",
    "plt.ylabel('Silhouette Score')\n",
    "plt.title('Silhouette Scores for GMM Clustering')\n",
    "plt.xticks(ks)\n",
    "plt.grid(True, linestyle='--', alpha=0.5)\n",
    "plt.show()"
   ],
   "id": "38594e6f37b24d1e",
   "outputs": [
    {
     "data": {
      "text/plain": [
       "<Figure size 800x500 with 1 Axes>"
      ],
      "image/png": "[encoded data removed]"
     },
     "metadata": {},
     "output_type": "display_data",
     "jetTransient": {
      "display_id": null
     }
    }
   ],
   "execution_count": 10
  },
  {
   "metadata": {
    "ExecuteTime": {
     "end_time": "2025-10-14T09:51:11.659266Z",
     "start_time": "2025-10-14T09:51:11.652114Z"
    }
   },
   "cell_type": "code",
   "source": [
    "best_ks = [2, 4, 7]\n",
    "\n",
    "for k in best_ks:\n",
    "    clusters_df[f'Clusters_GMM_k{k}'] = clusters[k]"
   ],
   "id": "8258efa92c64fa08",
   "outputs": [],
   "execution_count": 11
  },
  {
   "metadata": {},
   "cell_type": "markdown",
   "source": "## 5. Clustering with HDBSCAN",
   "id": "e01c94c6de5d5c9d"
  },
  {
   "metadata": {
    "ExecuteTime": {
     "end_time": "2025-10-14T09:51:20.760972Z",
     "start_time": "2025-10-14T09:51:20.275521Z"
    }
   },
   "cell_type": "code",
   "source": [
    "min_clusters = range(2, 10)\n",
    "clusters = dict()\n",
    "silhouette_scores = []\n",
    "\n",
    "for min_cluster in min_clusters:\n",
    "    labels, model, sil = hdbscan_cluster(X_scaled_numeric, min_cluster)\n",
    "    clusters[min_cluster] = labels\n",
    "    silhouette_scores.append(sil)\n",
    "\n",
    "min_clusters = [min_cluster for min_cluster in min_clusters]\n",
    "\n",
    "# Plot\n",
    "plt.figure(figsize=(8,5))\n",
    "plt.plot(min_clusters, silhouette_scores, marker='o', linestyle='-', color='teal')\n",
    "plt.xlabel('Min clusters')\n",
    "plt.ylabel('Silhouette Score')\n",
    "plt.title('Silhouette Scores for HDBScan Clustering')\n",
    "plt.xticks(ks)\n",
    "plt.grid(True, linestyle='--', alpha=0.5)\n",
    "plt.show()"
   ],
   "id": "33e66292cb2b6e0c",
   "outputs": [
    {
     "data": {
      "text/plain": [
       "<Figure size 800x500 with 1 Axes>"
      ],
      "image/png": "[encoded data removed]"
     },
     "metadata": {},
     "output_type": "display_data",
     "jetTransient": {
      "display_id": null
     }
    }
   ],
   "execution_count": 12
  },
  {
   "metadata": {
    "ExecuteTime": {
     "end_time": "2025-10-14T09:51:21.504909Z",
     "start_time": "2025-10-14T09:51:21.496550Z"
    }
   },
   "cell_type": "code",
   "source": [
    "best_min_clusters = [5, 6]\n",
    "\n",
    "for min_cluster in best_min_clusters:\n",
    "    clusters_df[f'Clusters_HDBScan_MinClusters{min_cluster}'] = clusters[min_cluster]"
   ],
   "id": "f2b5ce642f715d82",
   "outputs": [],
   "execution_count": 13
  },
  {
   "metadata": {},
   "cell_type": "markdown",
   "source": "## 7. Spectral Clustering",
   "id": "e2cc629db3e908e4"
  },
  {
   "metadata": {
    "ExecuteTime": {
     "end_time": "2025-10-14T09:59:15.458265Z",
     "start_time": "2025-10-14T09:59:04.206510Z"
    }
   },
   "cell_type": "code",
   "source": [
    "ks = range(2, 12)\n",
    "clusters = dict()\n",
    "silhouette_scores = []\n",
    "\n",
    "for k in ks:\n",
    "    labels, model, sil = spectral_cluster(X, k)\n",
    "    clusters[k] = labels\n",
    "    silhouette_scores.append(sil)\n",
    "\n",
    "ks = [k for k in ks]\n",
    "\n",
    "# Plot\n",
    "plt.figure(figsize=(8,5))\n",
    "plt.plot(ks, silhouette_scores, marker='o', linestyle='-', color='teal')\n",
    "plt.xlabel('Number of clusters (k)')\n",
    "plt.ylabel('Silhouette Score')\n",
    "plt.title('Silhouette Scores for GMM Clustering')\n",
    "plt.xticks(ks)\n",
    "plt.grid(True, linestyle='--', alpha=0.5)\n",
    "plt.show()"
   ],
   "id": "9ffef9bc4c46bc99",
   "outputs": [
    {
     "data": {
      "text/plain": [
       "<Figure size 800x500 with 1 Axes>"
      ],
      "image/png": "[encoded data removed]"
     },
     "metadata": {},
     "output_type": "display_data",
     "jetTransient": {
      "display_id": null
     }
    }
   ],
   "execution_count": 9
  },
  {
   "metadata": {
    "ExecuteTime": {
     "end_time": "2025-10-14T10:00:17.765069Z",
     "start_time": "2025-10-14T10:00:17.755955Z"
    }
   },
   "cell_type": "code",
   "source": [
    "best_ks = [2, 4, 6]\n",
    "\n",
    "for k in best_ks:\n",
    "    clusters_df[f'Clusters_Spectral_k{k}'] = clusters[k]"
   ],
   "id": "73076896b3ac63b8",
   "outputs": [],
   "execution_count": 11
  },
  {
   "metadata": {
    "ExecuteTime": {
     "end_time": "2025-10-14T10:00:24.449749Z",
     "start_time": "2025-10-14T10:00:24.435098Z"
    }
   },
   "cell_type": "code",
   "source": "clusters_df",
   "id": "bedb410798ac4b53",
   "outputs": [
    {
     "data": {
      "text/plain": [
       "     Clusters_Spectral_k2  Clusters_Spectral_k4  Clusters_Spectral_k6\n",
       "0                       1                     1                     0\n",
       "1                       0                     2                     2\n",
       "2                       0                     3                     3\n",
       "3                       0                     3                     3\n",
       "4                       0                     3                     5\n",
       "..                    ...                   ...                   ...\n",
       "574                     0                     3                     5\n",
       "575                     0                     0                     4\n",
       "576                     0                     3                     3\n",
       "577                     0                     0                     1\n",
       "578                     0                     0                     1\n",
       "\n",
       "[579 rows x 3 columns]"
      ],
      "text/html": [
       "<div>\n",
       "<style scoped>\n",
       "    .dataframe tbody tr th:only-of-type {\n",
       "        vertical-align: middle;\n",
       "    }\n",
       "\n",
       "    .dataframe tbody tr th {\n",
       "        vertical-align: top;\n",
       "    }\n",
       "\n",
       "    .dataframe thead th {\n",
       "        text-align: right;\n",
       "    }\n",
       "</style>\n",
       "<table border=\"1\" class=\"dataframe\">\n",
       "  <thead>\n",
       "    <tr style=\"text-align: right;\">\n",
       "      <th></th>\n",
       "      <th>Clusters_Spectral_k2</th>\n",
       "      <th>Clusters_Spectral_k4</th>\n",
       "      <th>Clusters_Spectral_k6</th>\n",
       "    </tr>\n",
       "  </thead>\n",
       "  <tbody>\n",
       "    <tr>\n",
       "      <th>0</th>\n",
       "      <td>1</td>\n",
       "      <td>1</td>\n",
       "      <td>0</td>\n",
       "    </tr>\n",
       "    <tr>\n",
       "      <th>1</th>\n",
       "      <td>0</td>\n",
       "      <td>2</td>\n",
       "      <td>2</td>\n",
       "    </tr>\n",
       "    <tr>\n",
       "      <th>2</th>\n",
       "      <td>0</td>\n",
       "      <td>3</td>\n",
       "      <td>3</td>\n",
       "    </tr>\n",
       "    <tr>\n",
       "      <th>3</th>\n",
       "      <td>0</td>\n",
       "      <td>3</td>\n",
       "      <td>3</td>\n",
       "    </tr>\n",
       "    <tr>\n",
       "      <th>4</th>\n",
       "      <td>0</td>\n",
       "      <td>3</td>\n",
       "      <td>5</td>\n",
       "    </tr>\n",
       "    <tr>\n",
       "      <th>...</th>\n",
       "      <td>...</td>\n",
       "      <td>...</td>\n",
       "      <td>...</td>\n",
       "    </tr>\n",
       "    <tr>\n",
       "      <th>574</th>\n",
       "      <td>0</td>\n",
       "      <td>3</td>\n",
       "      <td>5</td>\n",
       "    </tr>\n",
       "    <tr>\n",
       "      <th>575</th>\n",
       "      <td>0</td>\n",
       "      <td>0</td>\n",
       "      <td>4</td>\n",
       "    </tr>\n",
       "    <tr>\n",
       "      <th>576</th>\n",
       "      <td>0</td>\n",
       "      <td>3</td>\n",
       "      <td>3</td>\n",
       "    </tr>\n",
       "    <tr>\n",
       "      <th>577</th>\n",
       "      <td>0</td>\n",
       "      <td>0</td>\n",
       "      <td>1</td>\n",
       "    </tr>\n",
       "    <tr>\n",
       "      <th>578</th>\n",
       "      <td>0</td>\n",
       "      <td>0</td>\n",
       "      <td>1</td>\n",
       "    </tr>\n",
       "  </tbody>\n",
       "</table>\n",
       "<p>579 rows × 3 columns</p>\n",
       "</div>"
      ]
     },
     "execution_count": 13,
     "metadata": {},
     "output_type": "execute_result"
    }
   ],
   "execution_count": 13
  },
  {
   "metadata": {},
   "cell_type": "markdown",
   "source": "## 8. UMAP + HDBSCAN Clustering",
   "id": "6a5a37086c0902ae"
  },
  {
   "metadata": {
    "ExecuteTime": {
     "end_time": "2025-10-14T06:13:43.819899Z",
     "start_time": "2025-10-14T06:13:43.756103Z"
    }
   },
   "cell_type": "code",
   "source": [
    "X_data = pd.get_dummies(X_mixed, drop_first=True).copy()\n",
    "\n",
    "# ---- Step 1: UMAP embedding ----\n",
    "# Reduce dimensions to 2D or 3D for clustering\n",
    "umap_model = umap.UMAP(\n",
    "    n_neighbors=15,   # controls local neighborhood size\n",
    "    min_dist=0.1,     # controls compactness of clusters\n",
    "    n_components=2,   # 2D embedding\n",
    "    random_state=42\n",
    ")\n",
    "X_umap = umap_model.fit_transform(X_data)\n",
    "\n",
    "# ---- Step 2: HDBSCAN clustering on UMAP embedding ----\n",
    "# Tune min_cluster_size based on expected subgroup size\n",
    "clusterer = hdbscan.HDBSCAN(\n",
    "    min_cluster_size=20,  # try 20, adjust if too many small clusters\n",
    "    min_samples=5,        # optional: can increase for stricter clusters\n",
    "    cluster_selection_epsilon=0.0,\n",
    "    prediction_data=True\n",
    ")\n",
    "labels = clusterer.fit_predict(X_umap)\n",
    "\n",
    "# ---- Step 3: Silhouette score (exclude noise points) ----\n",
    "mask = labels != -1  # HDBSCAN labels noise as -1\n",
    "if np.unique(labels[mask]).size >= 2:\n",
    "    sil = silhouette_score(X_umap[mask], labels[mask])\n",
    "    print(f\"Silhouette Score (excluding noise): {sil:.3f}\")\n",
    "else:\n",
    "    sil = np.nan\n",
    "    print(\"Not enough clusters to compute silhouette.\")\n",
    "\n",
    "# ---- Step 4: Cluster distribution ----\n",
    "unique, counts = np.unique(labels, return_counts=True)\n",
    "print(\"\\nCluster distribution (label - size):\")\n",
    "for u, c in zip(unique, counts):\n",
    "    print(f\"{u}: {c} samples\")"
   ],
   "id": "4eda7549dc60864c",
   "outputs": [
    {
     "ename": "ValueError",
     "evalue": "could not convert string to float: 'Female'",
     "output_type": "error",
     "traceback": [
      "\u001B[31m---------------------------------------------------------------------------\u001B[39m",
      "\u001B[31mValueError\u001B[39m                                Traceback (most recent call last)",
      "\u001B[32m/tmp/ipykernel_6099/1902925406.py\u001B[39m in \u001B[36m?\u001B[39m\u001B[34m()\u001B[39m\n\u001B[32m      7\u001B[39m     min_dist=\u001B[32m0.1\u001B[39m,     \u001B[38;5;66;03m# controls compactness of clusters\u001B[39;00m\n\u001B[32m      8\u001B[39m     n_components=\u001B[32m2\u001B[39m,   \u001B[38;5;66;03m# 2D embedding\u001B[39;00m\n\u001B[32m      9\u001B[39m     random_state=\u001B[32m42\u001B[39m\n\u001B[32m     10\u001B[39m )\n\u001B[32m---> \u001B[39m\u001B[32m11\u001B[39m X_umap = umap_model.fit_transform(X_data)\n\u001B[32m     12\u001B[39m \n\u001B[32m     13\u001B[39m \u001B[38;5;66;03m# ---- Step 2: HDBSCAN clustering on UMAP embedding ----\u001B[39;00m\n\u001B[32m     14\u001B[39m \u001B[38;5;66;03m# Tune min_cluster_size based on expected subgroup size\u001B[39;00m\n",
      "\u001B[32m~/code/sciviz/assignment-01/.venv/lib/python3.12/site-packages/umap/umap_.py\u001B[39m in \u001B[36m?\u001B[39m\u001B[34m(self, X, y, ensure_all_finite, **kwargs)\u001B[39m\n\u001B[32m   2931\u001B[39m \n\u001B[32m   2932\u001B[39m         r_emb: array, shape (n_samples)\n\u001B[32m   2933\u001B[39m             Local radii of data points \u001B[38;5;28;01min\u001B[39;00m the embedding (log-transformed).\n\u001B[32m   2934\u001B[39m         \"\"\"\n\u001B[32m-> \u001B[39m\u001B[32m2935\u001B[39m         self.fit(X, y, ensure_all_finite, **kwargs)\n\u001B[32m   2936\u001B[39m         \u001B[38;5;28;01mif\u001B[39;00m self.transform_mode == \u001B[33m\"embedding\"\u001B[39m:\n\u001B[32m   2937\u001B[39m             \u001B[38;5;28;01mif\u001B[39;00m self.output_dens:\n\u001B[32m   2938\u001B[39m                 \u001B[38;5;28;01mreturn\u001B[39;00m self.embedding_, self.rad_orig_, self.rad_emb_\n",
      "\u001B[32m~/code/sciviz/assignment-01/.venv/lib/python3.12/site-packages/umap/umap_.py\u001B[39m in \u001B[36m?\u001B[39m\u001B[34m(self, X, y, ensure_all_finite, **kwargs)\u001B[39m\n\u001B[32m   2368\u001B[39m             X = check_array(\n\u001B[32m   2369\u001B[39m                 X, dtype=np.uint8, order=\u001B[33m\"C\"\u001B[39m, ensure_all_finite=ensure_all_finite\n\u001B[32m   2370\u001B[39m             )\n\u001B[32m   2371\u001B[39m         \u001B[38;5;28;01melse\u001B[39;00m:\n\u001B[32m-> \u001B[39m\u001B[32m2372\u001B[39m             X = check_array(\n\u001B[32m   2373\u001B[39m                 X,\n\u001B[32m   2374\u001B[39m                 dtype=np.float32,\n\u001B[32m   2375\u001B[39m                 accept_sparse=\u001B[33m\"csr\"\u001B[39m,\n",
      "\u001B[32m~/code/sciviz/assignment-01/.venv/lib/python3.12/site-packages/sklearn/utils/validation.py\u001B[39m in \u001B[36m?\u001B[39m\u001B[34m(array, accept_sparse, accept_large_sparse, dtype, order, copy, force_writeable, force_all_finite, ensure_all_finite, ensure_non_negative, ensure_2d, allow_nd, ensure_min_samples, ensure_min_features, estimator, input_name)\u001B[39m\n\u001B[32m   1050\u001B[39m                         )\n\u001B[32m   1051\u001B[39m                     array = xp.astype(array, dtype, copy=\u001B[38;5;28;01mFalse\u001B[39;00m)\n\u001B[32m   1052\u001B[39m                 \u001B[38;5;28;01melse\u001B[39;00m:\n\u001B[32m   1053\u001B[39m                     array = _asarray_with_order(array, order=order, dtype=dtype, xp=xp)\n\u001B[32m-> \u001B[39m\u001B[32m1054\u001B[39m             \u001B[38;5;28;01mexcept\u001B[39;00m ComplexWarning \u001B[38;5;28;01mas\u001B[39;00m complex_warning:\n\u001B[32m   1055\u001B[39m                 raise ValueError(\n\u001B[32m   1056\u001B[39m                     \u001B[33m\"Complex data not supported\\n{}\\n\"\u001B[39m.format(array)\n\u001B[32m   1057\u001B[39m                 ) \u001B[38;5;28;01mfrom\u001B[39;00m complex_warning\n",
      "\u001B[32m~/code/sciviz/assignment-01/.venv/lib/python3.12/site-packages/sklearn/utils/_array_api.py\u001B[39m in \u001B[36m?\u001B[39m\u001B[34m(array, dtype, order, copy, xp, device)\u001B[39m\n\u001B[32m    753\u001B[39m         \u001B[38;5;66;03m# Use NumPy API to support order\u001B[39;00m\n\u001B[32m    754\u001B[39m         \u001B[38;5;28;01mif\u001B[39;00m copy \u001B[38;5;28;01mis\u001B[39;00m \u001B[38;5;28;01mTrue\u001B[39;00m:\n\u001B[32m    755\u001B[39m             array = numpy.array(array, order=order, dtype=dtype)\n\u001B[32m    756\u001B[39m         \u001B[38;5;28;01melse\u001B[39;00m:\n\u001B[32m--> \u001B[39m\u001B[32m757\u001B[39m             array = numpy.asarray(array, order=order, dtype=dtype)\n\u001B[32m    758\u001B[39m \n\u001B[32m    759\u001B[39m         \u001B[38;5;66;03m# At this point array is a NumPy ndarray. We convert it to an array\u001B[39;00m\n\u001B[32m    760\u001B[39m         \u001B[38;5;66;03m# container that is consistent with the input's namespace.\u001B[39;00m\n",
      "\u001B[32m~/code/sciviz/assignment-01/.venv/lib/python3.12/site-packages/pandas/core/generic.py\u001B[39m in \u001B[36m?\u001B[39m\u001B[34m(self, dtype, copy)\u001B[39m\n\u001B[32m   2167\u001B[39m             )\n\u001B[32m   2168\u001B[39m         values = self._values\n\u001B[32m   2169\u001B[39m         \u001B[38;5;28;01mif\u001B[39;00m copy \u001B[38;5;28;01mis\u001B[39;00m \u001B[38;5;28;01mNone\u001B[39;00m:\n\u001B[32m   2170\u001B[39m             \u001B[38;5;66;03m# Note: branch avoids `copy=None` for NumPy 1.x support\u001B[39;00m\n\u001B[32m-> \u001B[39m\u001B[32m2171\u001B[39m             arr = np.asarray(values, dtype=dtype)\n\u001B[32m   2172\u001B[39m         \u001B[38;5;28;01melse\u001B[39;00m:\n\u001B[32m   2173\u001B[39m             arr = np.array(values, dtype=dtype, copy=copy)\n\u001B[32m   2174\u001B[39m \n",
      "\u001B[31mValueError\u001B[39m: could not convert string to float: 'Female'"
     ]
    }
   ],
   "execution_count": 68
  },
  {
   "metadata": {
    "ExecuteTime": {
     "end_time": "2025-10-14T05:15:14.899972Z",
     "start_time": "2025-10-14T05:15:14.875925Z"
    }
   },
   "cell_type": "code",
   "source": [
    "X['Label'] = y\n",
    "\n",
    "X"
   ],
   "id": "cb00056f317b221e",
   "outputs": [
    {
     "name": "stderr",
     "output_type": "stream",
     "text": [
      "/tmp/ipykernel_6099/488644780.py:1: SettingWithCopyWarning: \n",
      "A value is trying to be set on a copy of a slice from a DataFrame.\n",
      "Try using .loc[row_indexer,col_indexer] = value instead\n",
      "\n",
      "See the caveats in the documentation: https://pandas.pydata.org/pandas-docs/stable/user_guide/indexing.html#returning-a-view-versus-a-copy\n",
      "  X['Label'] = y\n"
     ]
    },
    {
     "data": {
      "text/plain": [
       "     Age  Gender    TB   DB  Alkphos  Sgpt  Sgot   TP  ALB  A/G Ratio  \\\n",
       "0     65  Female   0.7  0.1      187    16    18  6.8  3.3       0.90   \n",
       "1     62    Male  10.9  5.5      699    64   100  7.5  3.2       0.74   \n",
       "2     62    Male   7.3  4.1      490    60    68  7.0  3.3       0.89   \n",
       "3     58    Male   1.0  0.4      182    14    20  6.8  3.4       1.00   \n",
       "4     72    Male   3.9  2.0      195    27    59  7.3  2.4       0.40   \n",
       "..   ...     ...   ...  ...      ...   ...   ...  ...  ...        ...   \n",
       "578   60    Male   0.5  0.1      500    20    34  5.9  1.6       0.37   \n",
       "579   40    Male   0.6  0.1       98    35    31  6.0  3.2       1.10   \n",
       "580   52    Male   0.8  0.2      245    48    49  6.4  3.2       1.00   \n",
       "581   31    Male   1.3  0.5      184    29    32  6.8  3.4       1.00   \n",
       "582   38    Male   1.0  0.3      216    21    24  7.3  4.4       1.50   \n",
       "\n",
       "     2-Proto_Cluster  4-Proto_Cluster  5-Proto_Cluster  DBSCAN_Cluster-eps134  \\\n",
       "0                  0                1                0                      0   \n",
       "1                  1                0                4                      0   \n",
       "2                  0                1                0                      0   \n",
       "3                  0                2                1                      0   \n",
       "4                  0                1                0                      0   \n",
       "..               ...              ...              ...                    ...   \n",
       "578                0                1                0                      0   \n",
       "579                0                2                0                      0   \n",
       "580                0                1                0                      0   \n",
       "581                0                2                1                      0   \n",
       "582                0                2                1                      0   \n",
       "\n",
       "     Label  HDBSCAN_Cluster-mincluster10  \n",
       "0        1                            -1  \n",
       "1        1                            -1  \n",
       "2        1                            -1  \n",
       "3        1                            -1  \n",
       "4        1                            -1  \n",
       "..     ...                           ...  \n",
       "578      2                            -1  \n",
       "579      1                            -1  \n",
       "580      1                            -1  \n",
       "581      1                             1  \n",
       "582      2                            -1  \n",
       "\n",
       "[579 rows x 16 columns]"
      ],
      "text/html": [
       "<div>\n",
       "<style scoped>\n",
       "    .dataframe tbody tr th:only-of-type {\n",
       "        vertical-align: middle;\n",
       "    }\n",
       "\n",
       "    .dataframe tbody tr th {\n",
       "        vertical-align: top;\n",
       "    }\n",
       "\n",
       "    .dataframe thead th {\n",
       "        text-align: right;\n",
       "    }\n",
       "</style>\n",
       "<table border=\"1\" class=\"dataframe\">\n",
       "  <thead>\n",
       "    <tr style=\"text-align: right;\">\n",
       "      <th></th>\n",
       "      <th>Age</th>\n",
       "      <th>Gender</th>\n",
       "      <th>TB</th>\n",
       "      <th>DB</th>\n",
       "      <th>Alkphos</th>\n",
       "      <th>Sgpt</th>\n",
       "      <th>Sgot</th>\n",
       "      <th>TP</th>\n",
       "      <th>ALB</th>\n",
       "      <th>A/G Ratio</th>\n",
       "      <th>2-Proto_Cluster</th>\n",
       "      <th>4-Proto_Cluster</th>\n",
       "      <th>5-Proto_Cluster</th>\n",
       "      <th>DBSCAN_Cluster-eps134</th>\n",
       "      <th>Label</th>\n",
       "      <th>HDBSCAN_Cluster-mincluster10</th>\n",
       "    </tr>\n",
       "  </thead>\n",
       "  <tbody>\n",
       "    <tr>\n",
       "      <th>0</th>\n",
       "      <td>65</td>\n",
       "      <td>Female</td>\n",
       "      <td>0.7</td>\n",
       "      <td>0.1</td>\n",
       "      <td>187</td>\n",
       "      <td>16</td>\n",
       "      <td>18</td>\n",
       "      <td>6.8</td>\n",
       "      <td>3.3</td>\n",
       "      <td>0.90</td>\n",
       "      <td>0</td>\n",
       "      <td>1</td>\n",
       "      <td>0</td>\n",
       "      <td>0</td>\n",
       "      <td>1</td>\n",
       "      <td>-1</td>\n",
       "    </tr>\n",
       "    <tr>\n",
       "      <th>1</th>\n",
       "      <td>62</td>\n",
       "      <td>Male</td>\n",
       "      <td>10.9</td>\n",
       "      <td>5.5</td>\n",
       "      <td>699</td>\n",
       "      <td>64</td>\n",
       "      <td>100</td>\n",
       "      <td>7.5</td>\n",
       "      <td>3.2</td>\n",
       "      <td>0.74</td>\n",
       "      <td>1</td>\n",
       "      <td>0</td>\n",
       "      <td>4</td>\n",
       "      <td>0</td>\n",
       "      <td>1</td>\n",
       "      <td>-1</td>\n",
       "    </tr>\n",
       "    <tr>\n",
       "      <th>2</th>\n",
       "      <td>62</td>\n",
       "      <td>Male</td>\n",
       "      <td>7.3</td>\n",
       "      <td>4.1</td>\n",
       "      <td>490</td>\n",
       "      <td>60</td>\n",
       "      <td>68</td>\n",
       "      <td>7.0</td>\n",
       "      <td>3.3</td>\n",
       "      <td>0.89</td>\n",
       "      <td>0</td>\n",
       "      <td>1</td>\n",
       "      <td>0</td>\n",
       "      <td>0</td>\n",
       "      <td>1</td>\n",
       "      <td>-1</td>\n",
       "    </tr>\n",
       "    <tr>\n",
       "      <th>3</th>\n",
       "      <td>58</td>\n",
       "      <td>Male</td>\n",
       "      <td>1.0</td>\n",
       "      <td>0.4</td>\n",
       "      <td>182</td>\n",
       "      <td>14</td>\n",
       "      <td>20</td>\n",
       "      <td>6.8</td>\n",
       "      <td>3.4</td>\n",
       "      <td>1.00</td>\n",
       "      <td>0</td>\n",
       "      <td>2</td>\n",
       "      <td>1</td>\n",
       "      <td>0</td>\n",
       "      <td>1</td>\n",
       "      <td>-1</td>\n",
       "    </tr>\n",
       "    <tr>\n",
       "      <th>4</th>\n",
       "      <td>72</td>\n",
       "      <td>Male</td>\n",
       "      <td>3.9</td>\n",
       "      <td>2.0</td>\n",
       "      <td>195</td>\n",
       "      <td>27</td>\n",
       "      <td>59</td>\n",
       "      <td>7.3</td>\n",
       "      <td>2.4</td>\n",
       "      <td>0.40</td>\n",
       "      <td>0</td>\n",
       "      <td>1</td>\n",
       "      <td>0</td>\n",
       "      <td>0</td>\n",
       "      <td>1</td>\n",
       "      <td>-1</td>\n",
       "    </tr>\n",
       "    <tr>\n",
       "      <th>...</th>\n",
       "      <td>...</td>\n",
       "      <td>...</td>\n",
       "      <td>...</td>\n",
       "      <td>...</td>\n",
       "      <td>...</td>\n",
       "      <td>...</td>\n",
       "      <td>...</td>\n",
       "      <td>...</td>\n",
       "      <td>...</td>\n",
       "      <td>...</td>\n",
       "      <td>...</td>\n",
       "      <td>...</td>\n",
       "      <td>...</td>\n",
       "      <td>...</td>\n",
       "      <td>...</td>\n",
       "      <td>...</td>\n",
       "    </tr>\n",
       "    <tr>\n",
       "      <th>578</th>\n",
       "      <td>60</td>\n",
       "      <td>Male</td>\n",
       "      <td>0.5</td>\n",
       "      <td>0.1</td>\n",
       "      <td>500</td>\n",
       "      <td>20</td>\n",
       "      <td>34</td>\n",
       "      <td>5.9</td>\n",
       "      <td>1.6</td>\n",
       "      <td>0.37</td>\n",
       "      <td>0</td>\n",
       "      <td>1</td>\n",
       "      <td>0</td>\n",
       "      <td>0</td>\n",
       "      <td>2</td>\n",
       "      <td>-1</td>\n",
       "    </tr>\n",
       "    <tr>\n",
       "      <th>579</th>\n",
       "      <td>40</td>\n",
       "      <td>Male</td>\n",
       "      <td>0.6</td>\n",
       "      <td>0.1</td>\n",
       "      <td>98</td>\n",
       "      <td>35</td>\n",
       "      <td>31</td>\n",
       "      <td>6.0</td>\n",
       "      <td>3.2</td>\n",
       "      <td>1.10</td>\n",
       "      <td>0</td>\n",
       "      <td>2</td>\n",
       "      <td>0</td>\n",
       "      <td>0</td>\n",
       "      <td>1</td>\n",
       "      <td>-1</td>\n",
       "    </tr>\n",
       "    <tr>\n",
       "      <th>580</th>\n",
       "      <td>52</td>\n",
       "      <td>Male</td>\n",
       "      <td>0.8</td>\n",
       "      <td>0.2</td>\n",
       "      <td>245</td>\n",
       "      <td>48</td>\n",
       "      <td>49</td>\n",
       "      <td>6.4</td>\n",
       "      <td>3.2</td>\n",
       "      <td>1.00</td>\n",
       "      <td>0</td>\n",
       "      <td>1</td>\n",
       "      <td>0</td>\n",
       "      <td>0</td>\n",
       "      <td>1</td>\n",
       "      <td>-1</td>\n",
       "    </tr>\n",
       "    <tr>\n",
       "      <th>581</th>\n",
       "      <td>31</td>\n",
       "      <td>Male</td>\n",
       "      <td>1.3</td>\n",
       "      <td>0.5</td>\n",
       "      <td>184</td>\n",
       "      <td>29</td>\n",
       "      <td>32</td>\n",
       "      <td>6.8</td>\n",
       "      <td>3.4</td>\n",
       "      <td>1.00</td>\n",
       "      <td>0</td>\n",
       "      <td>2</td>\n",
       "      <td>1</td>\n",
       "      <td>0</td>\n",
       "      <td>1</td>\n",
       "      <td>1</td>\n",
       "    </tr>\n",
       "    <tr>\n",
       "      <th>582</th>\n",
       "      <td>38</td>\n",
       "      <td>Male</td>\n",
       "      <td>1.0</td>\n",
       "      <td>0.3</td>\n",
       "      <td>216</td>\n",
       "      <td>21</td>\n",
       "      <td>24</td>\n",
       "      <td>7.3</td>\n",
       "      <td>4.4</td>\n",
       "      <td>1.50</td>\n",
       "      <td>0</td>\n",
       "      <td>2</td>\n",
       "      <td>1</td>\n",
       "      <td>0</td>\n",
       "      <td>2</td>\n",
       "      <td>-1</td>\n",
       "    </tr>\n",
       "  </tbody>\n",
       "</table>\n",
       "<p>579 rows × 16 columns</p>\n",
       "</div>"
      ]
     },
     "execution_count": 21,
     "metadata": {},
     "output_type": "execute_result"
    }
   ],
   "execution_count": 21
  },
  {
   "metadata": {
    "ExecuteTime": {
     "end_time": "2025-10-14T05:08:48.601576Z",
     "start_time": "2025-10-14T05:08:48.559148Z"
    }
   },
   "cell_type": "code",
   "source": "X.to_csv('data/ilpd-clustered.csv', index=False)",
   "id": "47f1a96ed3bc1a70",
   "outputs": [],
   "execution_count": 17
  },
  {
   "metadata": {},
   "cell_type": "code",
   "outputs": [],
   "execution_count": null,
   "source": "",
   "id": "f80132fe29502235"
  }
 ],
 "metadata": {
  "kernelspec": {
   "display_name": "Python 3",
   "language": "python",
   "name": "python3"
  },
  "language_info": {
   "codemirror_mode": {
    "name": "ipython",
    "version": 2
   },
   "file_extension": ".py",
   "mimetype": "text/x-python",
   "name": "python",
   "nbconvert_exporter": "python",
   "pygments_lexer": "ipython2",
   "version": "2.7.6"
  }
 },
 "nbformat": 4,
 "nbformat_minor": 5
}
