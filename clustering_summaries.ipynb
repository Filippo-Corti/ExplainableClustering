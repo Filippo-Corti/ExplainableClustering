{
 "cells": [
  {
   "cell_type": "markdown",
   "id": "b2fd620e",
   "metadata": {},
   "source": [
    "# Clustering summaries"
   ]
  },
  {
   "cell_type": "code",
   "execution_count": 15,
   "id": "d1018b27",
   "metadata": {},
   "outputs": [],
   "source": [
    "import pandas as pd"
   ]
  },
  {
   "cell_type": "code",
   "execution_count": 16,
   "id": "52d6ab7d",
   "metadata": {},
   "outputs": [],
   "source": [
    "df = pd.read_csv('data/ilpd-clustered.csv')"
   ]
  },
  {
   "cell_type": "code",
   "execution_count": 17,
   "id": "0b2df93f",
   "metadata": {},
   "outputs": [],
   "source": [
    "clustering_columns = [col for col in df.columns if 'cluster' in col.lower()]\n",
    "\n",
    "numerical_columns = df.select_dtypes(include=['int64', 'float64']).columns.tolist()\n",
    "feature_columns = [col for col in numerical_columns if col not in clustering_columns]"
   ]
  },
  {
   "cell_type": "code",
   "execution_count": null,
   "id": "9775e6ae",
   "metadata": {},
   "outputs": [],
   "source": [
    "import numpy as np\n",
    "from collections import defaultdict\n",
    "\n",
    "clustering_stats = {}\n",
    "\n",
    "# Calculate statistics for each clustering method\n",
    "for cluster_col in clustering_columns:\n",
    "    unique_clusters = sorted(df[cluster_col].unique())\n",
    "    \n",
    "    clustering_stats[cluster_col] = {}\n",
    "    \n",
    "    # Calculate statistics for each cluster\n",
    "    for cluster in unique_clusters:\n",
    "        cluster_data = df[df[cluster_col] == cluster][feature_columns]\n",
    "        \n",
    "        stats = {\n",
    "            'mean': cluster_data.mean(),\n",
    "            'median': cluster_data.median(),\n",
    "            'std': cluster_data.std()\n",
    "        }\n",
    "        \n",
    "        clustering_stats[cluster_col][f'cluster_{cluster}'] = stats"
   ]
  },
  {
   "cell_type": "code",
   "execution_count": null,
   "id": "c2966993",
   "metadata": {},
   "outputs": [],
   "source": [
    "# Create organized summary DataFrames\n",
    "summary_dfs = {}\n",
    "\n",
    "for cluster_method in clustering_columns:\n",
    "    summary_data = []\n",
    "    \n",
    "    for cluster_name, stats in clustering_stats[cluster_method].items():\n",
    "        cluster_id = cluster_name.split('_')[-1]\n",
    "        \n",
    "        for feature in feature_columns:\n",
    "            summary_data.append({\n",
    "                'Clustering_Method': cluster_method,\n",
    "                'Cluster': cluster_id,\n",
    "                'Feature': feature,\n",
    "                'Mean': stats['mean'][feature],\n",
    "                'Median': stats['median'][feature],\n",
    "                'Std_Dev': stats['std'][feature],\n",
    "                'Sample_Count': len(df[df[cluster_method] == int(cluster_id)])\n",
    "            })\n",
    "    \n",
    "    summary_df = pd.DataFrame(summary_data)\n",
    "    summary_dfs[cluster_method] = summary_df\n",
    "\n",
    "all_summaries = pd.concat(summary_dfs.values(), ignore_index=True)"
   ]
  },
  {
   "cell_type": "code",
   "execution_count": 20,
   "id": "f12146db",
   "metadata": {},
   "outputs": [
    {
     "data": {
      "application/vnd.microsoft.datawrangler.viewer.v0+json": {
       "columns": [
        {
         "name": "index",
         "rawType": "int64",
         "type": "integer"
        },
        {
         "name": "Clustering_Method",
         "rawType": "object",
         "type": "string"
        },
        {
         "name": "Cluster",
         "rawType": "object",
         "type": "string"
        },
        {
         "name": "Feature",
         "rawType": "object",
         "type": "string"
        },
        {
         "name": "Mean",
         "rawType": "float64",
         "type": "float"
        },
        {
         "name": "Median",
         "rawType": "float64",
         "type": "float"
        },
        {
         "name": "Std_Dev",
         "rawType": "float64",
         "type": "float"
        },
        {
         "name": "Sample_Count",
         "rawType": "int64",
         "type": "integer"
        }
       ],
       "ref": "30a77500-af0a-429d-842d-0362f392b977",
       "rows": [
        [
         "0",
         "Clusters_KProto_k2",
         "0",
         "Age",
         "44.973591549295776",
         "45.0",
         "16.220297987270047",
         "568"
        ],
        [
         "1",
         "Clusters_KProto_k2",
         "0",
         "TB",
         "3.189612676056338",
         "1.0",
         "6.128734863850241",
         "568"
        ],
        [
         "2",
         "Clusters_KProto_k2",
         "0",
         "DB",
         "1.4360915492957746",
         "0.3",
         "2.772506148020288",
         "568"
        ],
        [
         "3",
         "Clusters_KProto_k2",
         "0",
         "Alkphos",
         "288.40669014084506",
         "208.0",
         "238.70896529852672",
         "568"
        ],
        [
         "4",
         "Clusters_KProto_k2",
         "0",
         "Sgpt",
         "59.054577464788736",
         "35.0",
         "74.34175941161025",
         "568"
        ],
        [
         "5",
         "Clusters_KProto_k2",
         "0",
         "Sgot",
         "82.28697183098592",
         "41.0",
         "121.41299367361522",
         "568"
        ],
        [
         "6",
         "Clusters_KProto_k2",
         "0",
         "TP",
         "6.491197183098592",
         "6.6",
         "1.0860961805619265",
         "568"
        ],
        [
         "7",
         "Clusters_KProto_k2",
         "0",
         "ALB",
         "3.142429577464789",
         "3.1",
         "0.7977342774353097",
         "568"
        ],
        [
         "8",
         "Clusters_KProto_k2",
         "0",
         "A/G Ratio",
         "0.9463908450704225",
         "0.925",
         "0.31979518696997483",
         "568"
        ],
        [
         "9",
         "Clusters_KProto_k2",
         "0",
         "Label",
         "1.2904929577464788",
         "1.0",
         "0.4543900343331588",
         "568"
        ],
        [
         "10",
         "Clusters_KProto_k2",
         "1",
         "Age",
         "34.90909090909091",
         "34.0",
         "13.52371654135464",
         "11"
        ],
        [
         "11",
         "Clusters_KProto_k2",
         "1",
         "TB",
         "9.80909090909091",
         "6.2",
         "8.045303542496647",
         "11"
        ],
        [
         "12",
         "Clusters_KProto_k2",
         "1",
         "DB",
         "4.490909090909091",
         "3.0",
         "3.549212460660687",
         "11"
        ],
        [
         "13",
         "Clusters_KProto_k2",
         "1",
         "Alkphos",
         "444.1818181818182",
         "289.0",
         "414.45212466141805",
         "11"
        ],
        [
         "14",
         "Clusters_KProto_k2",
         "1",
         "Sgpt",
         "1220.8181818181818",
         "1250.0",
         "411.96160456572125",
         "11"
        ],
        [
         "15",
         "Clusters_KProto_k2",
         "1",
         "Sgot",
         "1562.8181818181818",
         "1050.0",
         "1286.3789346986225",
         "11"
        ],
        [
         "16",
         "Clusters_KProto_k2",
         "1",
         "TP",
         "5.990909090909091",
         "5.7",
         "0.9191893661858208",
         "11"
        ],
        [
         "17",
         "Clusters_KProto_k2",
         "1",
         "ALB",
         "2.936363636363636",
         "2.8",
         "0.5920687920718795",
         "11"
        ],
        [
         "18",
         "Clusters_KProto_k2",
         "1",
         "A/G Ratio",
         "0.9818181818181819",
         "1.1",
         "0.32192602199319587",
         "11"
        ],
        [
         "19",
         "Clusters_KProto_k2",
         "1",
         "Label",
         "1.0",
         "1.0",
         "0.0",
         "11"
        ],
        [
         "20",
         "Clusters_KProto_k4",
         "0",
         "Age",
         "45.93023255813954",
         "46.0",
         "13.286934772885534",
         "43"
        ],
        [
         "21",
         "Clusters_KProto_k4",
         "0",
         "TB",
         "20.93720930232558",
         "18.4",
         "10.87305589094117",
         "43"
        ],
        [
         "22",
         "Clusters_KProto_k4",
         "0",
         "DB",
         "9.79767441860465",
         "9.0",
         "3.534691228657612",
         "43"
        ],
        [
         "23",
         "Clusters_KProto_k4",
         "0",
         "Alkphos",
         "441.83720930232556",
         "332.0",
         "323.76526845647487",
         "43"
        ],
        [
         "24",
         "Clusters_KProto_k4",
         "0",
         "Sgpt",
         "108.62790697674419",
         "60.0",
         "113.45148391562716",
         "43"
        ],
        [
         "25",
         "Clusters_KProto_k4",
         "0",
         "Sgot",
         "190.86046511627907",
         "130.0",
         "162.08295662514905",
         "43"
        ],
        [
         "26",
         "Clusters_KProto_k4",
         "0",
         "TP",
         "6.5302325581395335",
         "6.6",
         "1.0709441503647343",
         "43"
        ],
        [
         "27",
         "Clusters_KProto_k4",
         "0",
         "ALB",
         "2.6325581395348836",
         "2.5",
         "0.602265931704338",
         "43"
        ],
        [
         "28",
         "Clusters_KProto_k4",
         "0",
         "A/G Ratio",
         "0.7974418604651162",
         "0.7",
         "0.5445884991845451",
         "43"
        ],
        [
         "29",
         "Clusters_KProto_k4",
         "0",
         "Label",
         "1.0",
         "1.0",
         "0.0",
         "43"
        ],
        [
         "30",
         "Clusters_KProto_k4",
         "1",
         "Age",
         "44.88053949903661",
         "45.0",
         "16.449794535158166",
         "519"
        ],
        [
         "31",
         "Clusters_KProto_k4",
         "1",
         "TB",
         "1.696339113680154",
         "0.9",
         "1.7355598633351896",
         "519"
        ],
        [
         "32",
         "Clusters_KProto_k4",
         "1",
         "DB",
         "0.7315992292870905",
         "0.3",
         "1.0315877598412222",
         "519"
        ],
        [
         "33",
         "Clusters_KProto_k4",
         "1",
         "Alkphos",
         "276.0828516377649",
         "202.0",
         "227.4376975124562",
         "519"
        ],
        [
         "34",
         "Clusters_KProto_k4",
         "1",
         "Sgpt",
         "50.23699421965318",
         "32.0",
         "52.254460741602905",
         "519"
        ],
        [
         "35",
         "Clusters_KProto_k4",
         "1",
         "Sgot",
         "65.64161849710983",
         "38.0",
         "86.38047001761575",
         "519"
        ],
        [
         "36",
         "Clusters_KProto_k4",
         "1",
         "TP",
         "6.491714836223506",
         "6.6",
         "1.08363963239057",
         "519"
        ],
        [
         "37",
         "Clusters_KProto_k4",
         "1",
         "ALB",
         "3.1907514450867054",
         "3.2",
         "0.7943035692409494",
         "519"
        ],
        [
         "38",
         "Clusters_KProto_k4",
         "1",
         "A/G Ratio",
         "0.9618304431599228",
         "1.0",
         "0.290405657827894",
         "519"
        ],
        [
         "39",
         "Clusters_KProto_k4",
         "1",
         "Label",
         "1.3179190751445087",
         "1.0",
         "0.46611710917074395",
         "519"
        ],
        [
         "40",
         "Clusters_KProto_k4",
         "2",
         "Age",
         "49.0",
         "49.0",
         "24.041630560342615",
         "2"
        ],
        [
         "41",
         "Clusters_KProto_k4",
         "2",
         "TB",
         "12.0",
         "12.0",
         "0.9899494936611655",
         "2"
        ],
        [
         "42",
         "Clusters_KProto_k4",
         "2",
         "DB",
         "5.9",
         "5.9",
         "0.4242640687119289",
         "2"
        ],
        [
         "43",
         "Clusters_KProto_k4",
         "2",
         "Alkphos",
         "652.0",
         "652.0",
         "647.7098115668775",
         "2"
        ],
        [
         "44",
         "Clusters_KProto_k4",
         "2",
         "Sgpt",
         "1625.0",
         "1625.0",
         "530.3300858899106",
         "2"
        ],
        [
         "45",
         "Clusters_KProto_k4",
         "2",
         "Sgot",
         "3937.5",
         "3937.5",
         "1402.1927470929238",
         "2"
        ],
        [
         "46",
         "Clusters_KProto_k4",
         "2",
         "TP",
         "6.35",
         "6.35",
         "0.9192388155425116",
         "2"
        ],
        [
         "47",
         "Clusters_KProto_k4",
         "2",
         "ALB",
         "2.8499999999999996",
         "2.8499999999999996",
         "0.6363961030678927",
         "2"
        ],
        [
         "48",
         "Clusters_KProto_k4",
         "2",
         "A/G Ratio",
         "0.9",
         "0.9",
         "0.5656854249492381",
         "2"
        ],
        [
         "49",
         "Clusters_KProto_k4",
         "2",
         "Label",
         "1.0",
         "1.0",
         "0.0",
         "2"
        ]
       ],
       "shape": {
        "columns": 7,
        "rows": 430
       }
      },
      "text/html": [
       "<div>\n",
       "<style scoped>\n",
       "    .dataframe tbody tr th:only-of-type {\n",
       "        vertical-align: middle;\n",
       "    }\n",
       "\n",
       "    .dataframe tbody tr th {\n",
       "        vertical-align: top;\n",
       "    }\n",
       "\n",
       "    .dataframe thead th {\n",
       "        text-align: right;\n",
       "    }\n",
       "</style>\n",
       "<table border=\"1\" class=\"dataframe\">\n",
       "  <thead>\n",
       "    <tr style=\"text-align: right;\">\n",
       "      <th></th>\n",
       "      <th>Clustering_Method</th>\n",
       "      <th>Cluster</th>\n",
       "      <th>Feature</th>\n",
       "      <th>Mean</th>\n",
       "      <th>Median</th>\n",
       "      <th>Std_Dev</th>\n",
       "      <th>Sample_Count</th>\n",
       "    </tr>\n",
       "  </thead>\n",
       "  <tbody>\n",
       "    <tr>\n",
       "      <th>0</th>\n",
       "      <td>Clusters_KProto_k2</td>\n",
       "      <td>0</td>\n",
       "      <td>Age</td>\n",
       "      <td>44.973592</td>\n",
       "      <td>45.0</td>\n",
       "      <td>16.220298</td>\n",
       "      <td>568</td>\n",
       "    </tr>\n",
       "    <tr>\n",
       "      <th>1</th>\n",
       "      <td>Clusters_KProto_k2</td>\n",
       "      <td>0</td>\n",
       "      <td>TB</td>\n",
       "      <td>3.189613</td>\n",
       "      <td>1.0</td>\n",
       "      <td>6.128735</td>\n",
       "      <td>568</td>\n",
       "    </tr>\n",
       "    <tr>\n",
       "      <th>2</th>\n",
       "      <td>Clusters_KProto_k2</td>\n",
       "      <td>0</td>\n",
       "      <td>DB</td>\n",
       "      <td>1.436092</td>\n",
       "      <td>0.3</td>\n",
       "      <td>2.772506</td>\n",
       "      <td>568</td>\n",
       "    </tr>\n",
       "    <tr>\n",
       "      <th>3</th>\n",
       "      <td>Clusters_KProto_k2</td>\n",
       "      <td>0</td>\n",
       "      <td>Alkphos</td>\n",
       "      <td>288.406690</td>\n",
       "      <td>208.0</td>\n",
       "      <td>238.708965</td>\n",
       "      <td>568</td>\n",
       "    </tr>\n",
       "    <tr>\n",
       "      <th>4</th>\n",
       "      <td>Clusters_KProto_k2</td>\n",
       "      <td>0</td>\n",
       "      <td>Sgpt</td>\n",
       "      <td>59.054577</td>\n",
       "      <td>35.0</td>\n",
       "      <td>74.341759</td>\n",
       "      <td>568</td>\n",
       "    </tr>\n",
       "    <tr>\n",
       "      <th>...</th>\n",
       "      <td>...</td>\n",
       "      <td>...</td>\n",
       "      <td>...</td>\n",
       "      <td>...</td>\n",
       "      <td>...</td>\n",
       "      <td>...</td>\n",
       "      <td>...</td>\n",
       "    </tr>\n",
       "    <tr>\n",
       "      <th>425</th>\n",
       "      <td>Clusters_Spectral_k6</td>\n",
       "      <td>5</td>\n",
       "      <td>Sgot</td>\n",
       "      <td>81.120000</td>\n",
       "      <td>59.0</td>\n",
       "      <td>68.413086</td>\n",
       "      <td>75</td>\n",
       "    </tr>\n",
       "    <tr>\n",
       "      <th>426</th>\n",
       "      <td>Clusters_Spectral_k6</td>\n",
       "      <td>5</td>\n",
       "      <td>TP</td>\n",
       "      <td>5.842667</td>\n",
       "      <td>5.8</td>\n",
       "      <td>1.144691</td>\n",
       "      <td>75</td>\n",
       "    </tr>\n",
       "    <tr>\n",
       "      <th>427</th>\n",
       "      <td>Clusters_Spectral_k6</td>\n",
       "      <td>5</td>\n",
       "      <td>ALB</td>\n",
       "      <td>2.238667</td>\n",
       "      <td>2.1</td>\n",
       "      <td>0.529378</td>\n",
       "      <td>75</td>\n",
       "    </tr>\n",
       "    <tr>\n",
       "      <th>428</th>\n",
       "      <td>Clusters_Spectral_k6</td>\n",
       "      <td>5</td>\n",
       "      <td>A/G Ratio</td>\n",
       "      <td>0.593733</td>\n",
       "      <td>0.6</td>\n",
       "      <td>0.134444</td>\n",
       "      <td>75</td>\n",
       "    </tr>\n",
       "    <tr>\n",
       "      <th>429</th>\n",
       "      <td>Clusters_Spectral_k6</td>\n",
       "      <td>5</td>\n",
       "      <td>Label</td>\n",
       "      <td>1.120000</td>\n",
       "      <td>1.0</td>\n",
       "      <td>0.327150</td>\n",
       "      <td>75</td>\n",
       "    </tr>\n",
       "  </tbody>\n",
       "</table>\n",
       "<p>430 rows × 7 columns</p>\n",
       "</div>"
      ],
      "text/plain": [
       "        Clustering_Method Cluster    Feature        Mean  Median     Std_Dev  \\\n",
       "0      Clusters_KProto_k2       0        Age   44.973592    45.0   16.220298   \n",
       "1      Clusters_KProto_k2       0         TB    3.189613     1.0    6.128735   \n",
       "2      Clusters_KProto_k2       0         DB    1.436092     0.3    2.772506   \n",
       "3      Clusters_KProto_k2       0    Alkphos  288.406690   208.0  238.708965   \n",
       "4      Clusters_KProto_k2       0       Sgpt   59.054577    35.0   74.341759   \n",
       "..                    ...     ...        ...         ...     ...         ...   \n",
       "425  Clusters_Spectral_k6       5       Sgot   81.120000    59.0   68.413086   \n",
       "426  Clusters_Spectral_k6       5         TP    5.842667     5.8    1.144691   \n",
       "427  Clusters_Spectral_k6       5        ALB    2.238667     2.1    0.529378   \n",
       "428  Clusters_Spectral_k6       5  A/G Ratio    0.593733     0.6    0.134444   \n",
       "429  Clusters_Spectral_k6       5      Label    1.120000     1.0    0.327150   \n",
       "\n",
       "     Sample_Count  \n",
       "0             568  \n",
       "1             568  \n",
       "2             568  \n",
       "3             568  \n",
       "4             568  \n",
       "..            ...  \n",
       "425            75  \n",
       "426            75  \n",
       "427            75  \n",
       "428            75  \n",
       "429            75  \n",
       "\n",
       "[430 rows x 7 columns]"
      ]
     },
     "execution_count": 20,
     "metadata": {},
     "output_type": "execute_result"
    }
   ],
   "source": [
    "all_summaries"
   ]
  }
 ],
 "metadata": {
  "kernelspec": {
   "display_name": "3.11.9",
   "language": "python",
   "name": "python3"
  },
  "language_info": {
   "codemirror_mode": {
    "name": "ipython",
    "version": 3
   },
   "file_extension": ".py",
   "mimetype": "text/x-python",
   "name": "python",
   "nbconvert_exporter": "python",
   "pygments_lexer": "ipython3",
   "version": "3.11.9"
  }
 },
 "nbformat": 4,
 "nbformat_minor": 5
}
